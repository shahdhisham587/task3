{
 "cells": [
  {
   "cell_type": "code",
   "execution_count": null,
   "metadata": {},
   "outputs": [],
   "source": [
    "\n",
    "# Import necessary libraries\n",
    "import numpy as np\n",
    "import pandas as pd\n",
    "import matplotlib.pyplot as plt\n",
    "import seaborn as sns\n",
    "\n",
    "# Load the dataset\n",
    "df = pd.read_csv(\"heart.csv\")\n",
    "\n",
    "# Display dataset columns\n",
    "print(\"Columns in the dataset:\", df.columns.tolist())\n",
    "\n",
    "# Display first and last few rows\n",
    "print(\"\\nFirst 5 Rows:\\n\", df.head())\n",
    "print(\"\\nLast 5 Rows:\\n\", df.tail())\n",
    "\n",
    "# Display descriptive statistics\n",
    "print(\"\\nDescriptive Statistics:\\n\", df.describe())\n",
    "\n",
    "# Check for missing values\n",
    "print(\"\\nMissing Values Before Imputation:\\n\", df.isnull().sum())\n",
    "\n",
    "# Handle missing values using mean imputation\n",
    "df.fillna(df.mean(), inplace=True)\n",
    "\n",
    "# Display missing values count after imputation\n",
    "print(\"\\nMissing Values After Imputation:\\n\", df.isnull().sum())\n",
    "\n",
    "# Check data shape before outlier removal\n",
    "print(\"\\nShape before removing outliers:\", df.shape)\n",
    "\n",
    "# Remove outliers in the \"chol\" column using the IQR method\n",
    "Q1 = df[\"chol\"].quantile(0.25)\n",
    "Q3 = df[\"chol\"].quantile(0.75)\n",
    "IQR = Q3 - Q1\n",
    "df = df[(df[\"chol\"] >= (Q1 - 1.5 * IQR)) & (df[\"chol\"] <= (Q3 + 1.5 * IQR))]\n",
    "\n",
    "# Check data shape after outlier removal\n",
    "print(\"\\nShape after removing outliers:\", df.shape)"
   ]
  },
  {
   "cell_type": "code",
   "execution_count": null,
   "metadata": {},
   "outputs": [],
   "source": [
    "# Compute statistics for cholesterol\n",
    "chol_mean = np.mean(df[\"chol\"])\n",
    "chol_median = np.median(df[\"chol\"])\n",
    "chol_std = np.std(df[\"chol\"])\n",
    "\n",
    "print(\"\\nCholesterol - Mean:\", chol_mean)\n",
    "print(\"Cholesterol - Median:\", chol_median)\n",
    "print(\"Cholesterol - Std Dev:\", chol_std)\n",
    "\n",
    "# Compute mean blood pressure for patients with & without heart disease\n",
    "trestbps_mean_hd = df[df[\"target\"] == 1][\"trestbps\"].mean()\n",
    "trestbps_mean_nohd = df[df[\"target\"] == 0][\"trestbps\"].mean()\n",
    "\n",
    "print(\"\\nMean Blood Pressure (Heart Disease):\", trestbps_mean_hd)\n",
    "print(\"Mean Blood Pressure (No Heart Disease):\", trestbps_mean_nohd)\n",
    "\n",
    "# Find max and min heart rate\n",
    "thalach_max = df[\"thalach\"].max()\n",
    "thalach_min = df[\"thalach\"].min()\n",
    "\n",
    "print(\"\\nMax Heart Rate:\", thalach_max)\n",
    "print(\"Min Heart Rate:\", thalach_min)\n",
    "\n",
    "# Sort patients by cholesterol levels (descending order)\n",
    "df_sorted = df.sort_values(by=\"chol\", ascending=False)\n",
    "print(\"\\nTop 5 Patients with Highest Cholesterol:\\n\", df_sorted.head())\n",
    "\n",
    "# Identify patients with cholesterol > 300 mg/dL\n",
    "high_chol_patients = df[df[\"chol\"] > 300]\n",
    "print(\"\\nPatients with Cholesterol > 300 mg/dL:\\n\", high_chol_patients)\n",
    "\n",
    "# Find patients older than 60 with abnormal ECG (restecg > 0)\n",
    "abnormal_ecg_patients = df[(df[\"age\"] > 60) & (df[\"restecg\"] > 0)]\n",
    "print(\"\\nPatients Older than 60 with Abnormal ECG:\\n\", abnormal_ecg_patients)"
   ]
  },
  {
   "cell_type": "code",
   "execution_count": null,
   "metadata": {},
   "outputs": [],
   "source": [
    "# Reshape and split dataset using NumPy\n",
    "reshaped_data = df.values.reshape(-1, df.shape[1])\n",
    "split_data = np.array_split(reshaped_data, 2)\n",
    "\n",
    "print(\"Data reshaped and split into two parts.\")"
   ]
  },
  {
   "cell_type": "code",
   "execution_count": null,
   "metadata": {},
   "outputs": [],
   "source": [
    "plt.figure(figsize=(10, 5))\n",
    "sns.histplot(df[\"chol\"], bins=30, kde=True)\n",
    "plt.title(\"Cholesterol Distribution\")\n",
    "plt.xlabel(\"Cholesterol\")\n",
    "plt.ylabel(\"Frequency\")\n",
    "plt.show()"
   ]
  },
  {
   "cell_type": "code",
   "execution_count": null,
   "metadata": {},
   "outputs": [],
   "source": [
    "plt.figure(figsize=(10, 5))\n",
    "sns.scatterplot(x=df[\"age\"], y=df[\"thalach\"])\n",
    "plt.title(\"Age vs Maximum Heart Rate\")\n",
    "plt.xlabel(\"Age\")\n",
    "plt.ylabel(\"Max Heart Rate (thalach)\")\n",
    "plt.show()"
   ]
  },
  {
   "cell_type": "code",
   "execution_count": null,
   "metadata": {},
   "outputs": [],
   "source": [
    "plt.figure(figsize=(10, 5))\n",
    "sns.countplot(x=df[\"target\"])\n",
    "plt.title(\"Heart Disease vs No Heart Disease\")\n",
    "plt.xlabel(\"Heart Disease (0 = No, 1 = Yes)\")\n",
    "plt.ylabel(\"Count\")\n",
    "plt.show()"
   ]
  },
  {
   "cell_type": "code",
   "execution_count": null,
   "metadata": {},
   "outputs": [],
   "source": [
    "from mpl_toolkits.mplot3d import Axes3D\n",
    "\n",
    "fig = plt.figure(figsize=(8, 6))\n",
    "ax = fig.add_subplot(111, projection='3d')\n",
    "ax.scatter(df[\"chol\"], df[\"age\"], df[\"target\"], c=df[\"target\"], cmap=\"coolwarm\")\n",
    "ax.set_xlabel(\"Cholesterol\")\n",
    "ax.set_ylabel(\"Age\")\n",
    "ax.set_zlabel(\"Heart Disease\")\n",
    "plt.title(\"3D Plot: Cholesterol vs Age vs Heart Disease\")\n",
    "plt.show()"
   ]
  },
  {
   "cell_type": "code",
   "execution_count": null,
   "metadata": {},
   "outputs": [],
   "source": [
    "plt.figure(figsize=(8, 8))\n",
    "df[\"cp\"].value_counts().plot.pie(autopct=\"%1.1f%%\", cmap=\"coolwarm\")\n",
    "plt.title(\"Chest Pain Types Distribution\")\n",
    "plt.ylabel(\"\")\n",
    "plt.show()"
   ]
  }
 ],
 "metadata": {
  "language_info": {
   "name": "python"
  }
 },
 "nbformat": 4,
 "nbformat_minor": 2
}
